{
 "cells": [
  {
   "cell_type": "markdown",
   "metadata": {},
   "source": [
    "<b>Answers from :<b/> <a href=\"https://github.com/spacelover92\" style=\"color:blue;font-size:30px;font-family:Comic Sans MS\">Spacelover92(Click to visit my github)</a>"
   ]
  },
  {
   "cell_type": "markdown",
   "metadata": {},
   "source": [
    "***"
   ]
  },
  {
   "cell_type": "markdown",
   "metadata": {},
   "source": [
    "#### 1. List of employees who earn more than average salary\n",
    "##### Note: In this case, we need a sub-quesry because we can't use aggregate function (AVG()) in WHERE clause\n",
    "\n",
    "###### SQL code:\n",
    "``` sql\n",
    "SELECT * FROM employees\n",
    "\t\tWHERE salary > (SELECT AVG(salary) FROM employees)\n",
    "```\n",
    "\n",
    "###### Result:\n",
    "EMP_ID|F_NAME|L_NAME|SSN|B_DATE|SEX|ADDRESS|JOB_ID|SALARY|MANAGER_ID|DEP_ID\n",
    " --- | --- | --- | --- | --- | --- | --- | --- | --- | --- | --- \n",
    "E1001|John|Thomas|123456|1976-01-09|M|5631 Rice, OakPark,IL|100|100000.00|30001|2\n",
    "E1002|Alice|James|123457|1972-07-31|F|980 Berry ln, Elgin,IL|200|80000.00|30002|5\n",
    "E1006|Nancy|Allen|123411|1978-02-06|F|111 Green Pl, Elgin,IL|600|90000.00|30001|2"
   ]
  },
  {
   "cell_type": "markdown",
   "metadata": {},
   "source": [
    "***"
   ]
  },
  {
   "cell_type": "markdown",
   "metadata": {},
   "source": [
    "#### 2. Compare salary of each employee with average salary\n",
    "##### Note: In this case, we need a sub-quesry to select columns it called _Column Expressions_\n",
    "\n",
    "###### SQL code:\n",
    "``` sql\n",
    "SELECT emp_id, salary, \n",
    "\t\t\t(SELECT AVG(salary) FROM employees)\n",
    "\t\t\t\t\t\tAS AVG_SALARY \n",
    "\t\t\tFROM employees\n",
    "```\n",
    "\n",
    "###### Result:\n",
    "\n",
    "EMP_ID|SALARY|AVG_SALARY\n",
    "--- | --- | ---\n",
    "E1001|100000.00|72000.00000000000000000000000\n",
    "E1002|80000.00|72000.00000000000000000000000\n",
    "E1003|50000.00|72000.00000000000000000000000\n",
    "E1004|60000.00|72000.00000000000000000000000\n",
    "E1005|70000.00|72000.00000000000000000000000\n",
    "E1006|90000.00|72000.00000000000000000000000\n",
    "E1007|65000.00|72000.00000000000000000000000\n",
    "E1008|65000.00|72000.00000000000000000000000\n",
    "E1009|70000.00|72000.00000000000000000000000\n",
    "E1010|70000.00|72000.00000000000000000000000"
   ]
  },
  {
   "cell_type": "markdown",
   "metadata": {},
   "source": [
    "***"
   ]
  },
  {
   "cell_type": "markdown",
   "metadata": {},
   "source": [
    "#### 3. To select from not sensitive information\n",
    "##### Note: Sub-queries in FROM clause called _Derived Tables_ or _Table Expressions_\n",
    "\n",
    "###### SQL code:\n",
    "``` sql\n",
    "SELECT * FROM\n",
    "\t\t\t(SELECT emp_id, f_name, l_name, dep_id FROM employees) AS EMP4ALL\n",
    "\t\t\t\n",
    "```\n",
    "\n",
    "###### Result:\n",
    "\n",
    "EMP_ID|F_NAME|L_NAME|DEP_ID\n",
    "--- | --- | --- | ---\n",
    "E1001|John|Thomas|2\n",
    "E1002|Alice|James|5\n",
    "E1003|Steve|Wells|5\n",
    "E1004|Santosh|Kumar|5\n",
    "E1005|Ahmed|Hussain|2\n",
    "E1006|Nancy|Allen|2\n",
    "E1007|Mary|Thomas|7\n",
    "E1008|Bharath|Gupta|7\n",
    "E1009|Andrea|Jones|7\n",
    "E1010|Ann|Jacob|5"
   ]
  },
  {
   "cell_type": "markdown",
   "metadata": {},
   "source": [
    "***"
   ]
  },
  {
   "cell_type": "markdown",
   "metadata": {},
   "source": [
    "### Accessing Multiple Tables with Sub-quesries\n",
    "##### To retrieve only the employees records that correspond to departments in the DEPARTMENTS table"
   ]
  },
  {
   "cell_type": "markdown",
   "metadata": {},
   "source": [
    "#### 4. To retrieve only the list of employees from a specific location:\n",
    "* ##### EMPLOYEES table does not contain location information\n",
    "* ##### Need to get location info from DEPARTMENTS table\n",
    "<br/>\n",
    "\n",
    "###### SQL code:\n",
    "``` sql\n",
    "SELECT * FROM employees \n",
    "\t\t\t\tWHERE dep_id IN (SELECT dept_id_dep FROM departments\n",
    "\t\t\t\t\t\t\t\t\t\t\t\t\t\t\tWHERE  loc_id = 'L0002')\n",
    "```\n",
    "\n",
    "###### Result:\n",
    "\n",
    "EMP_ID|F_NAME|L_NAME|SSN|B_DATE|SEX|ADDRESS|JOB_ID|SALARY|MANAGER_ID|DEP_ID\n",
    "--- | --- | --- | --- | --- | --- | --- | --- | --- | --- | ---\n",
    "E1002|Alice|James|123457|1972-07-31|F|980 Berry ln, Elgin,IL|200|80000.00|30002|5\n",
    "E1003|Steve|Wells|123458|1980-08-10|M|291 Springs, Gary,IL|300|50000.00|30002|5\n",
    "E1004|Santosh|Kumar|123459|1985-07-20|M|511 Aurora Av, Aurora,IL|400|60000.00|30004|5\n",
    "E1010|Ann|Jacob|123415|1982-03-30|F|111 Britany Springs,Elgin,IL|220|70000.00|30004|5"
   ]
  },
  {
   "cell_type": "markdown",
   "metadata": {},
   "source": [
    "***"
   ]
  },
  {
   "cell_type": "markdown",
   "metadata": {},
   "source": [
    "#### 5. Retrieve the department ID and name for employees who earn more than $70'000:\n",
    "<br/>\n",
    "\n",
    "###### SQL code:\n",
    "``` sql\n",
    "SELECT dept_id_dep, dep_name FROM departments\n",
    "\t\t\t\tWHERE dept_id_dep IN\n",
    "\t\t\t\t (SELECT dep_id FROM employees WHERE salary > 70000)\n",
    "```\n",
    "\n",
    "###### Result:\n",
    "\n",
    "DEPT_ID_DEP|DEP_NAME\n",
    "--- | ---\n",
    "2|Architect Group\n",
    "5|Software Group"
   ]
  },
  {
   "cell_type": "markdown",
   "metadata": {},
   "source": [
    "***"
   ]
  },
  {
   "cell_type": "markdown",
   "metadata": {},
   "source": [
    "#### 6. Accessing multiple tables with implicit JOIN\n",
    "##### Note: We don't explicitly write JOIN clause\n",
    "\n",
    "###### SQL code:\n",
    "``` sql\n",
    "SELECT * FROM employees AS e, departments AS d\n",
    "\t\tWHERE e.dep_id = d.dept_id_dep\n",
    "```\n",
    "\n",
    "###### Result:\n",
    "\n",
    "EMP_ID|F_NAME|L_NAME|SSN|B_DATE|SEX|ADDRESS|JOB_ID|SALARY|MANAGER_ID|DEP_ID|DEPT_ID_DEP|DEP_NAME|MANAGER_ID|LOC_ID\n",
    " --- | --- | --- | --- | --- | --- | --- | --- | --- | --- | --- | --- | --- | --- | ---\n",
    "E1001|John|Thomas|123456|1976-01-09|M|5631 Rice, OakPark,IL|100|100000.00|30001|2|2|Architect Group|30001|L0001\n",
    "E1002|Alice|James|123457|1972-07-31|F|980 Berry ln, Elgin,IL|200|80000.00|30002|5|5|Software Group|30002|L0002\n",
    "E1003|Steve|Wells|123458|1980-08-10|M|291 Springs, Gary,IL|300|50000.00|30002|5|5|Software Group|30002|L0002\n",
    "E1004|Santosh|Kumar|123459|1985-07-20|M|511 Aurora Av, Aurora,IL|400|60000.00|30002|5|5|Software Group|30002|L0002\n",
    "E1005|Ahmed|Hussain|123410|1981-01-04|M|216 Oak Tree, Geneva,IL|500|70000.00|30001|2|2|Architect Group|30001|L0001\n",
    "E1006|Nancy|Allen|123411|1978-02-06|F|111 Green Pl, Elgin,IL|600|90000.00|30001|2|2|Architect Group|30001|L0001\n",
    "E1007|Mary|Thomas|123412|1975-05-05|F|100 Rose Pl, Gary,IL|650|65000.00|30003|7|7|Design Team|30003|L0003\n",
    "E1008|Bharath|Gupta|123413|1985-05-06|M|145 Berry Ln, Naperville,IL|660|65000.00|30003|7|7|Design Team|30003|L0003\n",
    "E1009|Andrea|Jones|123414|1990-07-09|F|120 Fall Creek, Gary,IL|234|70000.00|30003|7|7|Design Team|30003|L0003\n",
    "E1010|Ann|Jacob|123415|1982-03-30|F|111 Britany Springs,Elgin,IL|220|70000.00|30002|5|5|Software Group|30002|L0002\n"
   ]
  },
  {
   "cell_type": "markdown",
   "metadata": {},
   "source": [
    "***"
   ]
  },
  {
   "cell_type": "markdown",
   "metadata": {},
   "source": [
    "#### 7. To see the department name for each employee\n",
    "##### Note: For aliasing we can write **employees AS e** or just **employees e** without mentioning **AS**\n",
    "##### Note2: I just pre-fixed column names in SELECT clause **e** for employees and **d** for departments\n",
    "\n",
    "###### SQL code:\n",
    "``` sql\n",
    "SELECT e.emp_id, d.dep_name FROM employees e, departments d\n",
    "\t\tWHERE e.dep_id = d.dept_id_dep\n",
    "```\n",
    "\n",
    "###### Result:\n",
    "\n",
    "EMP_ID|DEP_NAME\n",
    "--- | ---\n",
    "E1001|Architect Group\n",
    "E1002|Software Group\n",
    "E1003|Software Group\n",
    "E1004|Software Group\n",
    "E1005|Architect Group\n",
    "E1006|Architect Group\n",
    "E1007|Design Team\n",
    "E1008|Design Team\n",
    "E1009|Design Team\n",
    "E1010|Software Group"
   ]
  },
  {
   "cell_type": "markdown",
   "metadata": {},
   "source": [
    "***"
   ]
  },
  {
   "cell_type": "markdown",
   "metadata": {},
   "source": [
    "<b>Answers from :<b/> <a href=\"https://github.com/spacelover92\" style=\"color:blue;font-size:30px;font-family:Comic Sans MS\">Spacelover92(Click to visit my github)</a>"
   ]
  }
 ],
 "metadata": {
  "kernelspec": {
   "display_name": "Python 3",
   "language": "python",
   "name": "python3"
  },
  "language_info": {
   "codemirror_mode": {
    "name": "ipython",
    "version": 3
   },
   "file_extension": ".py",
   "mimetype": "text/x-python",
   "name": "python",
   "nbconvert_exporter": "python",
   "pygments_lexer": "ipython3",
   "version": "3.7.9"
  }
 },
 "nbformat": 4,
 "nbformat_minor": 4
}
