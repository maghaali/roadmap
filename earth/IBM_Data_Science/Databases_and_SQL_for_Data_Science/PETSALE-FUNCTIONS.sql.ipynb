{
 "cells": [
  {
   "cell_type": "markdown",
   "metadata": {},
   "source": [
    "<b>Answers from :<b/> <a href=\"https://github.com/spacelover92\" style=\"color:blue;font-size:30px;font-family:Comic Sans MS\">Spacelover92(Click to visit my github)</a>"
   ]
  },
  {
   "cell_type": "markdown",
   "metadata": {},
   "source": [
    "### First, create table and insert data"
   ]
  },
  {
   "cell_type": "markdown",
   "metadata": {},
   "source": [
    "``` sql\n",
    "-- Drop the PETSALE table in case it exists\n",
    "drop table PETSALE;\n",
    "-- Create the PETSALE table \n",
    "create table PETSALE (\n",
    "\tID INTEGER PRIMARY KEY NOT NULL,\n",
    "\tANIMAL VARCHAR(20),\n",
    "\tQUANTITY INTEGER,\n",
    "\tSALEPRICE DECIMAL(6,2),\n",
    "\tSALEDATE DATE\n",
    "\t);\n",
    "-- Insert saple data into PETSALE table\n",
    "insert into PETSALE values \n",
    "\t(1,'Cat',9,450.09,'2018-05-29'),\n",
    "\t(2,'Dog',3,666.66,'2018-06-01'),\n",
    "\t(3,'Dog',1,100.00,'2018-06-04'),\n",
    "\t(4,'Parrot',2,50.00,'2018-06-04'),\n",
    "\t(5,'Dog',1,75.75,'2018-06-10'),\n",
    "\t(6,'Hamster',6,60.60,'2018-06-11'),\n",
    "\t(7,'Cat',1,44.44,'2018-06-11'),\n",
    "\t(8,'Goldfish',24,48.48,'2018-06-14'),\n",
    "\t(9,'Dog',2,222.22,'2018-06-15')\n",
    "\t\n",
    ";\n",
    "```"
   ]
  },
  {
   "cell_type": "markdown",
   "metadata": {},
   "source": [
    "#### Examine the table\n",
    "``` sql\n",
    "SELECT * FROM PETSALE;\n",
    "```\n",
    "\n",
    "ID|ANIMAL|QUANTITY|SALEPRICE|SALEDATE\n",
    " --- | --- | --- | --- | ---\n",
    "1|Cat|9|450.09|2018-05-29\n",
    "2|Dog|3|666.66|2018-06-01\n",
    "3|Dog|1|100.00|2018-06-04\n",
    "4|Parrot|2|50.00|2018-06-04\n",
    "5|Dog|1|75.75|2018-06-10\n",
    "6|Hamster|6|60.60|2018-06-11\n",
    "7|Cat|1|44.44|2018-06-11\n",
    "8|Goldfish|24|48.48|2018-06-14\n",
    "9|Dog|2|222.22|2018-06-15"
   ]
  },
  {
   "cell_type": "markdown",
   "metadata": {},
   "source": [
    "### Now we'll trying to practice some SELECT statements and see results"
   ]
  },
  {
   "cell_type": "markdown",
   "metadata": {},
   "source": [
    "``` sql\n",
    "select SUM(SALEPRICE) from PETSALE;\n",
    "```\n",
    "\n",
    "1|\n",
    "---|\n",
    "1718.24|"
   ]
  },
  {
   "cell_type": "markdown",
   "metadata": {},
   "source": [
    "``` sql\n",
    "select SUM(SALEPRICE) AS SUM_OF_SALEPRICE from PETSALE;\n",
    "```\n",
    "\n",
    "SUM_OF_SALEPRICE|\n",
    "---|\n",
    "1718.24|"
   ]
  },
  {
   "cell_type": "markdown",
   "metadata": {},
   "source": [
    "``` sql\n",
    "select MAX(QUANTITY) from PETSALE;\n",
    "```\n",
    "\n",
    "1|\n",
    "---|\n",
    "24|"
   ]
  },
  {
   "cell_type": "markdown",
   "metadata": {},
   "source": [
    "``` sql\n",
    "select AVG(SALEPRICE) from PETSALE;\n",
    "```\n",
    "\n",
    "1|\n",
    "---|\n",
    "190.915555555555555555555555555|"
   ]
  },
  {
   "cell_type": "markdown",
   "metadata": {},
   "source": [
    "``` sql\n",
    "select AVG( SALEPRICE / QUANTITY ) from PETSALE where ANIMAL = 'Dog';\n",
    "```\n",
    "\n",
    "1|\n",
    "---|\n",
    "127.270000000000000000000000000|"
   ]
  },
  {
   "cell_type": "markdown",
   "metadata": {},
   "source": [
    "``` sql\n",
    "select ROUND(SALEPRICE) from PETSALE;\n",
    "```\n",
    "\n",
    "\n",
    "1|\n",
    "---|\n",
    "450.00|\n",
    "667.00|\n",
    "100.00|\n",
    "50.00|\n",
    "76.00|\n",
    "61.00|\n",
    "44.00|\n",
    "48.00|\n",
    "222.00|"
   ]
  },
  {
   "cell_type": "markdown",
   "metadata": {},
   "source": [
    "``` sql\n",
    "select LENGTH(ANIMAL) from PETSALE;\n",
    "```\n",
    "\n",
    "\n",
    "1|\n",
    "---|\n",
    "3|\n",
    "3|\n",
    "3|\n",
    "6|\n",
    "3|\n",
    "7|\n",
    "3|\n",
    "8|\n",
    "3|"
   ]
  },
  {
   "cell_type": "markdown",
   "metadata": {},
   "source": [
    "``` sql\n",
    "select UCASE(ANIMAL) from PETSALE;\n",
    "```\n",
    "\n",
    "1|\n",
    "---|\n",
    "CAT|\n",
    "DOG|\n",
    "DOG|\n",
    "PARROT|\n",
    "DOG|\n",
    "HAMSTER|\n",
    "CAT|\n",
    "GOLDFISH|\n",
    "DOG|"
   ]
  },
  {
   "cell_type": "markdown",
   "metadata": {},
   "source": [
    "``` sql\n",
    "select DISTINCT(UCASE(ANIMAL)) from PETSALE;\n",
    "```\n",
    "\n",
    "1|\n",
    "---|\n",
    "CAT|\n",
    "DOG|\n",
    "GOLDFISH|\n",
    "HAMSTER|\n",
    "PARROT|"
   ]
  },
  {
   "cell_type": "markdown",
   "metadata": {},
   "source": [
    "``` sql\n",
    "select * from PETSALE where LCASE(ANIMAL) = 'cat';\n",
    "```\n",
    "\n",
    "ID|ANIMAL|QUANTITY|SALEPRICE|SALEDATE\n",
    " --- |--- |--- |--- |---  \n",
    "1|Cat|9|450.09|2018-05-29\n",
    "7|Cat|1|44.44|2018-06-11"
   ]
  },
  {
   "cell_type": "markdown",
   "metadata": {},
   "source": [
    "``` sql\n",
    "select DAY(SALEDATE) from PETSALE where ANIMAL = 'Cat';\n",
    "```\n",
    "\n",
    "1|\n",
    "---|\n",
    "29|\n",
    "11|"
   ]
  },
  {
   "cell_type": "markdown",
   "metadata": {},
   "source": [
    "``` sql\n",
    "select COUNT(*) from PETSALE where MONTH(SALEDATE)='05';\n",
    "```\n",
    "\n",
    "1|\n",
    "---|\n",
    "1|"
   ]
  },
  {
   "cell_type": "markdown",
   "metadata": {},
   "source": [
    "``` sql\n",
    "select (SALEDATE + 3 DAYS) from PETSALE;\n",
    "```\n",
    "\n",
    "\n",
    "1|\n",
    "----|\n",
    "2018-06-01|\n",
    "2018-06-04|\n",
    "2018-06-07|\n",
    "2018-06-07|\n",
    "2018-06-13|\n",
    "2018-06-14|\n",
    "2018-06-14|\n",
    "2018-06-17|\n",
    "2018-06-18|"
   ]
  },
  {
   "cell_type": "markdown",
   "metadata": {},
   "source": [
    "``` sql\n",
    "select (CURRENT DATE - SALEDATE) from PETSALE;\n",
    "```\n",
    "#### Note: 20321 means 2 year & 03 month & 21 day\n",
    "1|\n",
    "----|\n",
    "20321|\n",
    "20318|\n",
    "20315|\n",
    "20315|\n",
    "20309|\n",
    "20308|\n",
    "20308|\n",
    "20305|\n",
    "20304|"
   ]
  },
  {
   "cell_type": "markdown",
   "metadata": {},
   "source": [
    "<b>Answers from :<b/> <a href=\"https://github.com/spacelover92\" style=\"color:blue;font-size:30px;font-family:Comic Sans MS\">Spacelover92(Click to visit my github)</a>"
   ]
  }
 ],
 "metadata": {
  "kernelspec": {
   "display_name": "Python 3",
   "language": "python",
   "name": "python3"
  },
  "language_info": {
   "codemirror_mode": {
    "name": "ipython",
    "version": 3
   },
   "file_extension": ".py",
   "mimetype": "text/x-python",
   "name": "python",
   "nbconvert_exporter": "python",
   "pygments_lexer": "ipython3",
   "version": "3.7.9"
  }
 },
 "nbformat": 4,
 "nbformat_minor": 4
}
