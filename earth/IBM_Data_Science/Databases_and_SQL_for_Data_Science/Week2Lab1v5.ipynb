{
 "cells": [
  {
   "cell_type": "markdown",
   "metadata": {},
   "source": [
    "<a href=\"https://github.com/spacelover92\" style=\"color:blue;font-size:30px;font-family:Comic Sans MS\">Spacelover92(Click to visit my github)</a>"
   ]
  },
  {
   "cell_type": "markdown",
   "metadata": {},
   "source": [
    "### Question 1: \n",
    "##### Were there any warnings loading data into the JOBS table? What can be done to resolve this?\n",
    "##### Hint: View the data loaded into this table and pay close attention to the JOB_TITLE column."
   ]
  },
  {
   "cell_type": "markdown",
   "metadata": {},
   "source": [
    "## Answer:\n",
    "####     First we should alter table and change length of data type\n",
    "####     As follows:\n",
    "``` sql\n",
    "ALTER TABLE \"KWD86751\".\"JOBS\" \n",
    "ALTER COLUMN JOB_TITLE\n",
    "SET DATA TYPE VARCHAR(30);\n",
    "```\n",
    "#### With code above I changed VARCHAR from 15 to 30\n",
    "#### Then we should load data into \"JOBS\" and overwrite them"
   ]
  },
  {
   "cell_type": "markdown",
   "metadata": {},
   "source": [
    "***"
   ]
  },
  {
   "cell_type": "markdown",
   "metadata": {},
   "source": [
    "### Question 2: \n",
    "##### Did all rows from the source file load successfully in the DEPARTMENT table? If not, are you able to figure out why not?\n",
    "##### Hint: Look at the warning. Also, note the Primary Key for this table."
   ]
  },
  {
   "cell_type": "markdown",
   "metadata": {},
   "source": [
    "## Answer:\n",
    "##### NO, this row\n",
    "DEPT_ID_DEP|DEP_NAME|MANAGER_ID|LOC_ID\n",
    "--- | --- | --- | ---\n",
    "5|Software Group|30004|L0004\n",
    "##### didn't load successfully because _DEPT_ID_DEP_ column is a _PRIMARY KEY_ and we have another row with _DEPT_ID_DEP_ 5 so we can't add another row with _DEPT_ID_DEP_ 5"
   ]
  },
  {
   "cell_type": "markdown",
   "metadata": {},
   "source": [
    "***"
   ]
  },
  {
   "cell_type": "markdown",
   "metadata": {},
   "source": [
    "### Query 1: Retrieve all employees whose address is in Elgin,IL\n",
    "##### [Hint: Use the LIKE operator to find similar strings]"
   ]
  },
  {
   "cell_type": "markdown",
   "metadata": {},
   "source": [
    "``` sql\n",
    "SELECT * FROM employees\n",
    "\t\tWHERE address LIKE '%Elgin,IL%'\n",
    "\t\t\n",
    "```"
   ]
  },
  {
   "cell_type": "markdown",
   "metadata": {},
   "source": [
    "EMP_ID|F_NAME|L_NAME|SSN|B_DATE|SEX|ADDRESS|JOB_ID|SALARY|MANAGER_ID|DEP_ID\n",
    " --- | --- | --- | --- | --- | --- | --- | --- | --- | --- | --- \n",
    "E1002|Alice|James|123457|1972-07-31|F|980 Berry ln, Elgin,IL|200|80000.00|30002|5\n",
    "E1006|Nancy|Allen|123411|1978-02-06|F|111 Green Pl, Elgin,IL|600|90000.00|30001|2\n",
    "E1010|Ann|Jacob|123415|1982-03-30|F|111 Britany Springs,Elgin,IL|220|70000.00|30004|5"
   ]
  },
  {
   "cell_type": "markdown",
   "metadata": {},
   "source": [
    "***"
   ]
  },
  {
   "cell_type": "markdown",
   "metadata": {},
   "source": [
    "### Query 2: Retrieve all employees who were born during the 1970's.\n",
    "##### [Hint: Use the LIKE operator to find similar strings]"
   ]
  },
  {
   "cell_type": "markdown",
   "metadata": {},
   "source": [
    "``` sql\n",
    "SELECT * FROM employees\n",
    "\t\tWHERE b_date LIKE '197%'\n",
    "\t\t\n",
    "```\n",
    "EMP_ID|F_NAME|L_NAME|SSN|B_DATE|SEX|ADDRESS|JOB_ID|SALARY|MANAGER_ID|DEP_ID\n",
    " --- | --- | --- | --- | --- | --- | --- | --- | --- | --- | --- \n",
    "E1001|John|Thomas|123456|1976-01-09|M|5631 Rice, OakPark,IL|100|100000.00|30001|2\n",
    "E1002|Alice|James|123457|1972-07-31|F|980 Berry ln, Elgin,IL|200|80000.00|30002|5\n",
    "E1006|Nancy|Allen|123411|1978-02-06|F|111 Green Pl, Elgin,IL|600|90000.00|30001|2\n",
    "E1007|Mary|Thomas|123412|1975-05-05|F|100 Rose Pl, Gary,IL|650|65000.00|30003|7"
   ]
  },
  {
   "cell_type": "markdown",
   "metadata": {},
   "source": [
    "***"
   ]
  },
  {
   "cell_type": "markdown",
   "metadata": {},
   "source": [
    "### Query 3: Retrieve all employees in department 5 whose salary is between 60000 and 70000 .\n",
    "##### [Hint: Use the keyword BETWEEN for this query ]"
   ]
  },
  {
   "cell_type": "markdown",
   "metadata": {},
   "source": [
    "``` sql\n",
    "SELECT * FROM employees\n",
    "\t\tWHERE dep_id = 5 AND salary BETWEEN 60000 AND 70000\n",
    "```\n",
    "\n",
    "EMP_ID|F_NAME|L_NAME|SSN|B_DATE|SEX|ADDRESS|JOB_ID|SALARY|MANAGER_ID|DEP_ID\n",
    " --- | --- | --- | --- | --- | --- | --- | --- | --- | --- | --- \n",
    "E1004|Santosh|Kumar|123459|1985-07-20|M|511 Aurora Av, Aurora,IL|400|60000.00|30004|5\n",
    "E1010|Ann|Jacob|123415|1982-03-30|F|111 Britany Springs,Elgin,IL|220|70000.00|30004|5"
   ]
  },
  {
   "cell_type": "markdown",
   "metadata": {},
   "source": [
    "***"
   ]
  },
  {
   "cell_type": "markdown",
   "metadata": {},
   "source": [
    "### Query 4A: Retrieve a list of employees ordered by department ID.\n",
    "##### [Hint: Use the ORDER BY clause for this query]"
   ]
  },
  {
   "cell_type": "markdown",
   "metadata": {},
   "source": [
    "``` sql\n",
    "SELECT * FROM employees\n",
    "\t\tORDER BY dep_id \n",
    "```\n",
    "\n",
    "EMP_ID|F_NAME|L_NAME|SSN|B_DATE|SEX|ADDRESS|JOB_ID|SALARY|MANAGER_ID|DEP_ID\n",
    " --- | --- | --- | --- | --- | --- | --- | --- | --- | --- | --- \n",
    "E1001|John|Thomas|123456|1976-01-09|M|5631 Rice, OakPark,IL|100|100000.00|30001|2\n",
    "E1005|Ahmed|Hussain|123410|1981-01-04|M|216 Oak Tree, Geneva,IL|500|70000.00|30001|2\n",
    "E1006|Nancy|Allen|123411|1978-02-06|F|111 Green Pl, Elgin,IL|600|90000.00|30001|2\n",
    "E1002|Alice|James|123457|1972-07-31|F|980 Berry ln, Elgin,IL|200|80000.00|30002|5\n",
    "E1003|Steve|Wells|123458|1980-08-10|M|291 Springs, Gary,IL|300|50000.00|30002|5\n",
    "E1004|Santosh|Kumar|123459|1985-07-20|M|511 Aurora Av, Aurora,IL|400|60000.00|30004|5\n",
    "E1010|Ann|Jacob|123415|1982-03-30|F|111 Britany Springs,Elgin,IL|220|70000.00|30004|5\n",
    "E1007|Mary|Thomas|123412|1975-05-05|F|100 Rose Pl, Gary,IL|650|65000.00|30003|7\n",
    "E1008|Bharath|Gupta|123413|1985-05-06|M|145 Berry Ln, Naperville,IL|660|65000.00|30003|7\n",
    "E1009|Andrea|Jones|123414|1990-07-09|F|120 Fall Creek, Gary,IL|234|70000.00|30003|7"
   ]
  },
  {
   "cell_type": "markdown",
   "metadata": {},
   "source": [
    "***"
   ]
  },
  {
   "cell_type": "markdown",
   "metadata": {},
   "source": [
    "### Query 4B: Retrieve a list of employees ordered in descending order by department ID and within each department ordered alphabetically in descending order by last name."
   ]
  },
  {
   "cell_type": "markdown",
   "metadata": {},
   "source": [
    "``` sql\n",
    "SELECT * FROM employees\n",
    "\t\tORDER BY dep_id  DESC , l_name DESC\n",
    "```\n",
    "\n",
    "EMP_ID|F_NAME|L_NAME|SSN|B_DATE|SEX|ADDRESS|JOB_ID|SALARY|MANAGER_ID|DEP_ID\n",
    " --- | --- | --- | --- | --- | --- | --- | --- | --- | --- | --- \n",
    "E1007|Mary|Thomas|123412|1975-05-05|F|100 Rose Pl, Gary,IL|650|65000.00|30003|7\n",
    "E1009|Andrea|Jones|123414|1990-07-09|F|120 Fall Creek, Gary,IL|234|70000.00|30003|7\n",
    "E1008|Bharath|Gupta|123413|1985-05-06|M|145 Berry Ln, Naperville,IL|660|65000.00|30003|7\n",
    "E1003|Steve|Wells|123458|1980-08-10|M|291 Springs, Gary,IL|300|50000.00|30002|5\n",
    "E1004|Santosh|Kumar|123459|1985-07-20|M|511 Aurora Av, Aurora,IL|400|60000.00|30004|5\n",
    "E1002|Alice|James|123457|1972-07-31|F|980 Berry ln, Elgin,IL|200|80000.00|30002|5\n",
    "E1010|Ann|Jacob|123415|1982-03-30|F|111 Britany Springs,Elgin,IL|220|70000.00|30004|5\n",
    "E1001|John|Thomas|123456|1976-01-09|M|5631 Rice, OakPark,IL|100|100000.00|30001|2\n",
    "E1005|Ahmed|Hussain|123410|1981-01-04|M|216 Oak Tree, Geneva,IL|500|70000.00|30001|2\n",
    "E1006|Nancy|Allen|123411|1978-02-06|F|111 Green Pl, Elgin,IL|600|90000.00|30001|2"
   ]
  },
  {
   "cell_type": "markdown",
   "metadata": {},
   "source": [
    "***"
   ]
  },
  {
   "cell_type": "markdown",
   "metadata": {},
   "source": [
    "### Query 5A: For each department ID retrieve the number of employees in the department.\n",
    "##### [Hint: Use COUNT(*) to retrieve the total count of a column, and then GROUP BY]"
   ]
  },
  {
   "cell_type": "markdown",
   "metadata": {},
   "source": [
    "``` sql\n",
    "SELECT dep_id , COUNT(*) AS total_num_emp FROM employees\n",
    "\t\tGROUP BY dep_id\n",
    "\t\tORDER BY dep_id\n",
    "```\n",
    "\n",
    "DEP_ID|TOTAL_NUM_EMP\n",
    " --- | ---\n",
    "2|3\n",
    "5|4\n",
    "7|3"
   ]
  },
  {
   "cell_type": "markdown",
   "metadata": {},
   "source": [
    "***"
   ]
  },
  {
   "cell_type": "markdown",
   "metadata": {},
   "source": [
    "### Query 5B: For each department retrieve the number of employees in the department, and the average employees salary in the department.\n",
    "##### [Hint: Use COUNT(*) to retrieve the total count of a column, and AVG() function to compute average salaries, and then group]"
   ]
  },
  {
   "cell_type": "markdown",
   "metadata": {},
   "source": [
    "``` sql\n",
    "SELECT dep_id , COUNT(*) AS total_num_emp, AVG(salary) AS average_salary FROM employees\n",
    "\t\tGROUP BY dep_id\n",
    "\t\tORDER BY dep_id\n",
    "```\n",
    "\n",
    "\n",
    " DEP_ID|TOTAL_NUM_EMP|AVERAGE_SALARY\n",
    "  --- | --- | ---\n",
    "2|3|86666.66666666666666666666666\n",
    "5|4|65000.00000000000000000000000\n",
    "7|3|66666.66666666666666666666666"
   ]
  },
  {
   "cell_type": "markdown",
   "metadata": {},
   "source": [
    "***"
   ]
  },
  {
   "cell_type": "markdown",
   "metadata": {},
   "source": [
    "### Query 5C: Label the computed columns in the result set of Query 5B as “NUM_EMPLOYEES” and “AVG_SALARY”.\n",
    "##### [Hint: Use AS “LABEL_NAME” after the column name]"
   ]
  },
  {
   "cell_type": "markdown",
   "metadata": {},
   "source": [
    "``` sql\n",
    "SELECT dep_id , COUNT(*) AS NUM_EMPLOYEES, AVG(salary) AS AVG_SALARY FROM employees\n",
    "\t\tGROUP BY dep_id\n",
    "\t\tORDER BY dep_id\n",
    "```\n",
    "\n",
    " DEP_ID|NUM_EMPLOYEES|AVG_SALARY\n",
    "  --- | --- | ---\n",
    "2|3|86666.66666666666666666666666\n",
    "5|4|65000.00000000000000000000000\n",
    "7|3|66666.66666666666666666666666"
   ]
  },
  {
   "cell_type": "markdown",
   "metadata": {},
   "source": [
    "***"
   ]
  },
  {
   "cell_type": "markdown",
   "metadata": {},
   "source": [
    "### Query 5D: In Query 5C order the result set by Average Salary.\n",
    "##### [Hint: Use ORDER BY after the GROUP BY]"
   ]
  },
  {
   "cell_type": "markdown",
   "metadata": {},
   "source": [
    "``` sql\n",
    "SELECT dep_id , COUNT(*) AS NUM_EMPLOYEES, AVG(salary) AS AVG_SALARY FROM employees\n",
    "\t\tGROUP BY dep_id\n",
    "\t\tORDER BY AVG_SALARY\n",
    "```\n",
    "\n",
    " DEP_ID|NUM_EMPLOYEES|AVG_SALARY\n",
    "  --- | --- | ---\n",
    "5|4|65000.00000000000000000000000\n",
    "7|3|66666.66666666666666666666666\n",
    "2|3|86666.66666666666666666666666"
   ]
  },
  {
   "cell_type": "markdown",
   "metadata": {},
   "source": [
    "***"
   ]
  },
  {
   "cell_type": "markdown",
   "metadata": {},
   "source": [
    "### Query 5E: In Query 5D limit the result to departments with fewer than 4 employees.\n",
    "##### [Hint: Use HAVING after the GROUP BY, and use the count() function in the HAVING clause instead of the column label.\n",
    "##### Note: WHERE clause is used for filtering the entire result set whereas the HAVING clause is used for filtering the result of the grouping]"
   ]
  },
  {
   "cell_type": "markdown",
   "metadata": {},
   "source": [
    "``` sql\n",
    "SELECT dep_id , COUNT(*) AS NUM_EMPLOYEES, AVG(salary) AS AVG_SALARY FROM employees\n",
    "\t\tGROUP BY dep_id\n",
    "\t\tHAVING COUNT(*) < 4\n",
    "\t\tORDER BY AVG_SALARY\n",
    "```\n",
    "\n",
    " DEP_ID|NUM_EMPLOYEES|AVG_SALARY\n",
    "  --- | --- | ---\n",
    "7|3|66666.66666666666666666666666\n",
    "2|3|86666.66666666666666666666666"
   ]
  },
  {
   "cell_type": "markdown",
   "metadata": {},
   "source": [
    "***"
   ]
  },
  {
   "cell_type": "markdown",
   "metadata": {},
   "source": [
    "### BONUS Query 6: Similar to 4B but instead of department ID use department name. Retrieve a list of employees ordered by department name, and within each department ordered alphabetically in descending order by last name.\n",
    "##### [Hint: Department name is in the DEPARTMENTS table. So your query will need to retrieve data from more than one table. Don’t worry if you are not able to figure this one out … we’ll cover working with multiple tables in the next lesson.]"
   ]
  },
  {
   "cell_type": "markdown",
   "metadata": {},
   "source": [
    "``` sql\n",
    "SELECT departments.dep_name ,l_name \n",
    "\t\tFROM employees LEFT JOIN departments\n",
    "        ON employees.dep_id = departments.dept_id_dep\n",
    "\t\tORDER BY departments.dep_name , l_name DESC\n",
    "```\n",
    "\n",
    "\t\n",
    "DEP_NAME|L_NAME\n",
    "---|---\n",
    "Architect Group|Thomas\n",
    "Architect Group|Hussain\n",
    "Architect Group|Allen\n",
    "Design Team|Thomas\n",
    "Design Team|Jones\n",
    "Design Team|Gupta\n",
    "Software Group|Wells\n",
    "Software Group|Kumar\n",
    "Software Group|James\n",
    "Software Group|Jacob"
   ]
  },
  {
   "cell_type": "markdown",
   "metadata": {},
   "source": [
    "***"
   ]
  },
  {
   "cell_type": "markdown",
   "metadata": {},
   "source": [
    "<b>Answers from :<b/> <a href=\"https://github.com/spacelover92\" style=\"color:blue;font-size:30px;font-family:Comic Sans MS\">Spacelover92(Click to visit my github)</a>"
   ]
  }
 ],
 "metadata": {
  "kernelspec": {
   "display_name": "Python 3",
   "language": "python",
   "name": "python3"
  },
  "language_info": {
   "codemirror_mode": {
    "name": "ipython",
    "version": 3
   },
   "file_extension": ".py",
   "mimetype": "text/x-python",
   "name": "python",
   "nbconvert_exporter": "python",
   "pygments_lexer": "ipython3",
   "version": "3.7.9"
  }
 },
 "nbformat": 4,
 "nbformat_minor": 4
}
